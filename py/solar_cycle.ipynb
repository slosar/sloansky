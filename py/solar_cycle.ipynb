{
 "cells": [
  {
   "cell_type": "code",
   "execution_count": 1,
   "metadata": {
    "collapsed": false
   },
   "outputs": [],
   "source": [
    "import pyfits\n",
    "import numpy as np\n",
    "from astropy.coordinates import SkyCoord, get_moon, EarthLocation, ICRS, GCRS,AltAz\n",
    "from astropy.time import Time\n",
    "from astropy.io.fits.hdu.hdulist import HDUList\n",
    "from datetime import date\n",
    "from astral import Astral, Location\n",
    "from astropy.time import Time\n",
    "import astropy.units as u"
   ]
  },
  {
   "cell_type": "code",
   "execution_count": 19,
   "metadata": {
    "collapsed": false
   },
   "outputs": [],
   "source": [
    "import pandas as pd\n",
    "from itertools import chain"
   ]
  },
  {
   "cell_type": "code",
   "execution_count": 138,
   "metadata": {
    "collapsed": false
   },
   "outputs": [
    {
     "name": "stdout",
     "output_type": "stream",
     "text": [
      "earliest date= 55176 or 12-11-2009\n",
      "latest date= 57520 or 05-12-2016\n"
     ]
    }
   ],
   "source": [
    "## Finding out which file years to download\n",
    "all_sky=pd.read_csv('objSKY.csv')\n",
    "all_sky.head()\n",
    "print('earliest date=', min(all_sky['MJD']), 'or 12-11-2009')\n",
    "print('latest date=', max(all_sky['MJD']), 'or 05-12-2016')"
   ]
  },
  {
   "cell_type": "code",
   "execution_count": 139,
   "metadata": {
    "collapsed": true
   },
   "outputs": [],
   "source": [
    "## To check for reading in the right file\n",
    "rand_files=('spec-3586-55181-0496.fits','spec-3586-55181-0788.fits','spec-3586-55181-0996.fits',\n",
    "            'spec-3761-55272-0008.fits','spec-10000-57346-0334.fits','spec-3761-55272-0475.fits',\n",
    "            'spec-10000-57346-0659.fits','spec-5478-56014-0654.fits','spec-10000-57346-0955.fits',\n",
    "            'spec-5478-56014-0716.fits','spec-10000-57346-0994.fits')\n",
    "\n",
    "## To look for patterns\n",
    "inseq_files=('spec-3663-55176-0010.fits','spec-3663-55176-0012.fits','spec-3663-55176-0020.fits',\n",
    "             'spec-3663-55176-0024.fits','spec-3663-55176-0036.fits','spec-3663-55176-0038.fits',\n",
    "             'spec-3663-55176-0048.fits','spec-3663-55176-0052.fits','spec-3663-55176-0056.fits',\n",
    "             'spec-3663-55176-0068.fits','spec-3663-55176-0075.fits','spec-3663-55176-0078.fits',\n",
    "             'spec-3663-55176-0090.fits','spec-3663-55176-0094.fits','spec-3663-55176-0096.fits',\n",
    "             'spec-3663-55176-0108.fits','spec-3663-55176-0112.fits','spec-3663-55176-0114.fits',\n",
    "             'spec-3663-55176-0128.fits','spec-3663-55176-0134.fits')"
   ]
  },
  {
   "cell_type": "code",
   "execution_count": 149,
   "metadata": {
    "collapsed": false
   },
   "outputs": [],
   "source": [
    "## We only need year, month, day of month, and mill. of sol. disk\n",
    "## Cols         1-4    5-6      7-8               31-34\n",
    "demo=list(chain.from_iterable((x[:4], x[4:6], x[6:10], x[31:34]) for x in open('g2009.txt').readlines()))"
   ]
  },
  {
   "cell_type": "code",
   "execution_count": 247,
   "metadata": {
    "collapsed": false
   },
   "outputs": [],
   "source": [
    "## Function to organize mill. of sol. disk by date\n",
    "def organize_by_date(txt_file):\n",
    "    ## Pulling out cols of interest\n",
    "    demo=list(chain.from_iterable((x[:4], x[4:6], x[6:10], x[31:34]) for x in open(txt_file).readlines()))\n",
    "    ## Organizing cols\n",
    "    str_list=[demo[i*4:i*4+4] for i in range(int(len(demo)/4))]\n",
    "    ## Converting to float\n",
    "    float_dates=[]\n",
    "    for k in range(len(str_list)):\n",
    "        float_dates.append([float(i) for i in str_list[k]])\n",
    "    return float_dates"
   ]
  },
  {
   "cell_type": "code",
   "execution_count": 248,
   "metadata": {
    "collapsed": false
   },
   "outputs": [
    {
     "data": {
      "text/plain": [
       "[[2009.0, 1.0, 9.5, 30.0],\n",
       " [2009.0, 1.0, 10.5, 51.0],\n",
       " [2009.0, 1.0, 11.5, 92.0],\n",
       " [2009.0, 1.0, 12.5, 18.0],\n",
       " [2009.0, 1.0, 13.5, 17.0],\n",
       " [2009.0, 1.0, 19.5, 18.0],\n",
       " [2009.0, 2.0, 11.5, 9.0],\n",
       " [2009.0, 2.0, 12.5, 13.0],\n",
       " [2009.0, 2.0, 13.5, 16.0],\n",
       " [2009.0, 2.0, 24.5, 31.0],\n",
       " [2009.0, 2.0, 25.5, 16.0],\n",
       " [2009.0, 2.0, 26.5, 16.0],\n",
       " [2009.0, 3.0, 6.5, 39.0],\n",
       " [2009.0, 3.0, 7.5, 38.0],\n",
       " [2009.0, 4.0, 21.5, 7.0],\n",
       " [2009.0, 4.0, 29.5, 17.0],\n",
       " [2009.0, 4.0, 30.5, 3.0],\n",
       " [2009.0, 5.0, 13.5, 16.0],\n",
       " [2009.0, 5.0, 14.5, 35.0],\n",
       " [2009.0, 5.0, 15.5, 18.0],\n",
       " [2009.0, 5.0, 16.5, 37.0],\n",
       " [2009.0, 5.0, 17.5, 17.0],\n",
       " [2009.0, 5.0, 18.5, 46.0],\n",
       " [2009.0, 5.0, 19.5, 12.0],\n",
       " [2009.0, 5.0, 23.5, 40.0],\n",
       " [2009.0, 5.0, 31.5, 40.0],\n",
       " [2009.0, 6.0, 1.5, 122.0],\n",
       " [2009.0, 6.0, 2.5, 101.0],\n",
       " [2009.0, 6.0, 3.5, 17.0],\n",
       " [2009.0, 6.0, 4.5, 35.0],\n",
       " [2009.0, 6.0, 5.5, 16.0],\n",
       " [2009.0, 6.0, 8.5, 36.0],\n",
       " [2009.0, 6.0, 9.5, 36.0],\n",
       " [2009.0, 6.0, 12.5, 12.0],\n",
       " [2009.0, 6.0, 17.5, 6.0],\n",
       " [2009.0, 6.0, 21.5, 33.0],\n",
       " [2009.0, 6.0, 22.5, 17.0],\n",
       " [2009.0, 6.0, 22.5, 63.0],\n",
       " [2009.0, 6.0, 23.5, 51.0],\n",
       " [2009.0, 6.0, 24.5, 72.0],\n",
       " [2009.0, 7.0, 3.5, 101.0],\n",
       " [2009.0, 7.0, 4.5, 172.0],\n",
       " [2009.0, 7.0, 5.5, 285.0],\n",
       " [2009.0, 7.0, 6.5, 246.0],\n",
       " [2009.0, 7.0, 7.5, 238.0],\n",
       " [2009.0, 7.0, 8.5, 201.0],\n",
       " [2009.0, 7.0, 9.5, 163.0],\n",
       " [2009.0, 7.0, 10.5, 16.0],\n",
       " [2009.0, 8.0, 31.5, 16.0],\n",
       " [2009.0, 9.0, 1.5, 18.0],\n",
       " [2009.0, 9.0, 21.5, 6.0],\n",
       " [2009.0, 9.0, 22.5, 26.0],\n",
       " [2009.0, 9.0, 22.5, 65.0],\n",
       " [2009.0, 9.0, 23.5, 47.0],\n",
       " [2009.0, 9.0, 23.5, 180.0],\n",
       " [2009.0, 9.0, 24.5, 99.0],\n",
       " [2009.0, 9.0, 24.5, 209.0],\n",
       " [2009.0, 9.0, 25.5, 30.0],\n",
       " [2009.0, 9.0, 25.5, 113.0],\n",
       " [2009.0, 9.0, 26.5, 107.0],\n",
       " [2009.0, 9.0, 27.5, 16.0],\n",
       " [2009.0, 9.0, 28.5, 80.0],\n",
       " [2009.0, 9.0, 29.5, 37.0],\n",
       " [2009.0, 9.0, 30.5, 5.0],\n",
       " [2009.0, 10.0, 1.5, 1.0],\n",
       " [2009.0, 10.0, 20.5, 12.0],\n",
       " [2009.0, 10.0, 23.5, 17.0],\n",
       " [2009.0, 10.0, 23.5, 95.0],\n",
       " [2009.0, 10.0, 24.5, 236.0],\n",
       " [2009.0, 10.0, 25.5, 247.0],\n",
       " [2009.0, 10.0, 26.5, 324.0],\n",
       " [2009.0, 10.0, 27.5, 365.0],\n",
       " [2009.0, 10.0, 28.5, 350.0],\n",
       " [2009.0, 10.0, 29.5, 252.0],\n",
       " [2009.0, 10.0, 30.5, 75.0],\n",
       " [2009.0, 11.0, 5.5, 93.0],\n",
       " [2009.0, 11.0, 6.5, 18.0],\n",
       " [2009.0, 11.0, 7.5, 16.0],\n",
       " [2009.0, 11.0, 9.5, 12.0],\n",
       " [2009.0, 11.0, 10.5, 9.0],\n",
       " [2009.0, 11.0, 11.5, 3.0],\n",
       " [2009.0, 11.0, 12.5, 0.0],\n",
       " [2009.0, 11.0, 15.5, 16.0],\n",
       " [2009.0, 11.0, 16.5, 17.0],\n",
       " [2009.0, 11.0, 18.5, 36.0],\n",
       " [2009.0, 11.0, 18.5, 39.0],\n",
       " [2009.0, 11.0, 19.5, 19.0],\n",
       " [2009.0, 11.0, 19.5, 95.0],\n",
       " [2009.0, 11.0, 20.5, 19.0],\n",
       " [2009.0, 11.0, 20.5, 17.0],\n",
       " [2009.0, 11.0, 21.5, 57.0],\n",
       " [2009.0, 11.0, 22.5, 19.0],\n",
       " [2009.0, 12.0, 9.5, 5.0],\n",
       " [2009.0, 12.0, 10.5, 9.0],\n",
       " [2009.0, 12.0, 11.5, 26.0],\n",
       " [2009.0, 12.0, 12.5, 31.0],\n",
       " [2009.0, 12.0, 13.5, 36.0],\n",
       " [2009.0, 12.0, 14.5, 18.0],\n",
       " [2009.0, 12.0, 14.5, 33.0],\n",
       " [2009.0, 12.0, 15.5, 18.0],\n",
       " [2009.0, 12.0, 15.5, 204.0],\n",
       " [2009.0, 12.0, 16.5, 227.0],\n",
       " [2009.0, 12.0, 17.5, 303.0],\n",
       " [2009.0, 12.0, 18.5, 371.0],\n",
       " [2009.0, 12.0, 19.5, 207.0],\n",
       " [2009.0, 12.0, 19.5, 16.0],\n",
       " [2009.0, 12.0, 19.5, 11.0],\n",
       " [2009.0, 12.0, 20.5, 171.0],\n",
       " [2009.0, 12.0, 20.5, 15.0],\n",
       " [2009.0, 12.0, 20.5, 17.0],\n",
       " [2009.0, 12.0, 21.5, 11.0],\n",
       " [2009.0, 12.0, 21.5, 90.0],\n",
       " [2009.0, 12.0, 21.5, 29.0],\n",
       " [2009.0, 12.0, 22.5, 9.0],\n",
       " [2009.0, 12.0, 22.5, 11.0],\n",
       " [2009.0, 12.0, 23.5, 31.0],\n",
       " [2009.0, 12.0, 23.5, 13.0],\n",
       " [2009.0, 12.0, 24.5, 2.0],\n",
       " [2009.0, 12.0, 26.5, 13.0],\n",
       " [2009.0, 12.0, 27.5, 156.0],\n",
       " [2009.0, 12.0, 28.5, 154.0],\n",
       " [2009.0, 12.0, 29.5, 143.0],\n",
       " [2009.0, 12.0, 30.5, 90.0],\n",
       " [2009.0, 12.0, 31.5, 220.0]]"
      ]
     },
     "execution_count": 248,
     "metadata": {},
     "output_type": "execute_result"
    }
   ],
   "source": [
    "final_list=organize_by_date('g2009.txt')\n",
    "final_list"
   ]
  },
  {
   "cell_type": "code",
   "execution_count": null,
   "metadata": {
    "collapsed": true
   },
   "outputs": [],
   "source": []
  }
 ],
 "metadata": {
  "anaconda-cloud": {},
  "kernelspec": {
   "display_name": "Python [default]",
   "language": "python",
   "name": "python3"
  },
  "language_info": {
   "codemirror_mode": {
    "name": "ipython",
    "version": 3
   },
   "file_extension": ".py",
   "mimetype": "text/x-python",
   "name": "python",
   "nbconvert_exporter": "python",
   "pygments_lexer": "ipython3",
   "version": "3.5.2"
  }
 },
 "nbformat": 4,
 "nbformat_minor": 1
}
