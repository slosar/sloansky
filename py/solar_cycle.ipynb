{
 "cells": [
  {
   "cell_type": "code",
   "execution_count": 1,
   "metadata": {
    "collapsed": false
   },
   "outputs": [],
   "source": [
    "from astropy.coordinates import SkyCoord, get_moon, EarthLocation, ICRS, GCRS,AltAz\n",
    "from astropy.io.fits.hdu.hdulist import HDUList\n",
    "from datetime import date\n",
    "from astral import Astral, Location\n",
    "import astropy.units as u"
   ]
  },
  {
   "cell_type": "code",
   "execution_count": 1,
   "metadata": {
    "collapsed": false
   },
   "outputs": [],
   "source": [
    "import pyfits\n",
    "import pandas as pd\n",
    "import numpy as np\n",
    "from itertools import chain\n",
    "from collections import Counter\n",
    "from scipy.interpolate import interp1d\n",
    "from datetime import datetime\n",
    "from astropy.time import Time"
   ]
  },
  {
   "cell_type": "code",
   "execution_count": 2,
   "metadata": {
    "collapsed": false
   },
   "outputs": [
    {
     "name": "stdout",
     "output_type": "stream",
     "text": [
      "earliest date= 55176 or 12-11-2009\n",
      "latest date= 57520 or 05-12-2016\n"
     ]
    }
   ],
   "source": [
    "## Finding out which file years to download\n",
    "all_sky=pd.read_csv('objSKY.csv')\n",
    "all_sky.head()\n",
    "print('earliest date=', min(all_sky['MJD']), 'or 12-11-2009')\n",
    "print('latest date=', max(all_sky['MJD']), 'or 05-12-2016')"
   ]
  },
  {
   "cell_type": "markdown",
   "metadata": {},
   "source": [
    "## Data"
   ]
  },
  {
   "cell_type": "code",
   "execution_count": 3,
   "metadata": {
    "collapsed": true
   },
   "outputs": [],
   "source": [
    "## To check for reading in the right file\n",
    "rand_files=('spec-3586-55181-0496.fits','spec-3586-55181-0788.fits','spec-3586-55181-0996.fits',\n",
    "            'spec-3761-55272-0008.fits','spec-10000-57346-0334.fits','spec-3761-55272-0475.fits',\n",
    "            'spec-10000-57346-0659.fits','spec-5478-56014-0654.fits','spec-10000-57346-0955.fits',\n",
    "            'spec-5478-56014-0716.fits','spec-10000-57346-0994.fits')\n",
    "\n",
    "## To look for patterns\n",
    "inseq_files=('spec-3663-55176-0010.fits','spec-3663-55176-0012.fits','spec-3663-55176-0020.fits',\n",
    "             'spec-3663-55176-0024.fits','spec-3663-55176-0036.fits','spec-3663-55176-0038.fits',\n",
    "             'spec-3663-55176-0048.fits','spec-3663-55176-0052.fits','spec-3663-55176-0056.fits',\n",
    "             'spec-3663-55176-0068.fits','spec-3663-55176-0075.fits','spec-3663-55176-0078.fits',\n",
    "             'spec-3663-55176-0090.fits','spec-3663-55176-0094.fits','spec-3663-55176-0096.fits',\n",
    "             'spec-3663-55176-0108.fits','spec-3663-55176-0112.fits','spec-3663-55176-0114.fits',\n",
    "             'spec-3663-55176-0128.fits','spec-3663-55176-0134.fits')\n",
    "\n",
    "solar_files=('g2009.txt','g2010.txt','g2011.txt','g2012.txt','g2013.txt','g2014.txt','g2015.txt','g2016.txt')"
   ]
  },
  {
   "cell_type": "markdown",
   "metadata": {},
   "source": [
    "## Getting MJDs from fits"
   ]
  },
  {
   "cell_type": "code",
   "execution_count": 4,
   "metadata": {
    "collapsed": false
   },
   "outputs": [],
   "source": [
    "#a) first load all files and convert all dates into mjds.\n",
    "def get_mjd(file):\n",
    "    da=pyfits.open(file)\n",
    "    return (da[4].header['MJD'])"
   ]
  },
  {
   "cell_type": "code",
   "execution_count": 5,
   "metadata": {
    "collapsed": false,
    "scrolled": true
   },
   "outputs": [
    {
     "name": "stdout",
     "output_type": "stream",
     "text": [
      "55181\n",
      "55181\n",
      "55181\n",
      "55272\n",
      "57345\n",
      "55272\n",
      "57345\n",
      "56014\n",
      "57345\n",
      "56014\n",
      "57345\n"
     ]
    }
   ],
   "source": [
    "for i in rand_files:\n",
    "    print(get_mjd(i))"
   ]
  },
  {
   "cell_type": "markdown",
   "metadata": {},
   "source": [
    "## Master List of Solar File MJDs & Coverage"
   ]
  },
  {
   "cell_type": "code",
   "execution_count": 6,
   "metadata": {
    "collapsed": false
   },
   "outputs": [],
   "source": [
    "def merge_subs(lst_of_lsts):\n",
    "    res = []\n",
    "    for row in lst_of_lsts:\n",
    "        for i, resrow in enumerate(res):\n",
    "            if row[:3]==resrow[:3]:\n",
    "                res[i] += row[1:]\n",
    "                break\n",
    "        else:\n",
    "            res.append(row)\n",
    "    return (res)\n",
    "## Merges lists, but does not remove first 3 cols"
   ]
  },
  {
   "cell_type": "code",
   "execution_count": 7,
   "metadata": {
    "collapsed": true
   },
   "outputs": [],
   "source": [
    "def f2(seq): \n",
    "    # order preserving\n",
    "    checked = []\n",
    "    for e in seq:\n",
    "        if e not in checked:\n",
    "            checked.append(e)\n",
    "    return checked\n",
    "## removes duplicates"
   ]
  },
  {
   "cell_type": "code",
   "execution_count": 8,
   "metadata": {
    "collapsed": false
   },
   "outputs": [],
   "source": [
    "## Enter solar files (the range of years)\n",
    "def mjds_sol(txt_file, fits_files):\n",
    "    master_list=[]\n",
    "    for i in txt_file:\n",
    "        ## We only need year, month, day of month, and mill. of sol. disk\n",
    "        ## Cols         1-4    5-6      7-8               31-34\n",
    "        demo=list(chain.from_iterable((x[:4], x[4:6], x[6:10], x[31:34]) for x in open(i).readlines()))\n",
    "        ## Organizing cols\n",
    "        str_list=[demo[i*4:i*4+4] for i in range(int(len(demo)/4))]\n",
    "        ## Converting to float\n",
    "        float_dates=[]\n",
    "        for k in range(len(str_list)):\n",
    "            float_dates.append([float(i) for i in str_list[k]])\n",
    "        b=([x[:4] for x in float_dates])\n",
    "        ve=merge_subs(b)\n",
    "        new=[]\n",
    "        summed_mills=[]\n",
    "        no_mills=[]\n",
    "        merged_lists=[]\n",
    "        merged_utc=[]\n",
    "        for i in range(len(ve)):\n",
    "            new.append(f2(ve[i]))\n",
    "            summed_mills.append(sum(new[i][3:]))\n",
    "            no_mills.append(new[i][:3])\n",
    "            merged_lists.append(np.append(no_mills[i],summed_mills[i]).tolist())\n",
    "            ## Conversion to datetime ##\n",
    "            merged_lists[i][3:3]=[12]\n",
    "            merged_utc.append([int(n) for n in merged_lists[i]])\n",
    "        utc_df=pd.DataFrame(merged_utc)\n",
    "        utc_df.columns=['year','month','day','hour','mill']\n",
    "        no_mills_mjds=[]\n",
    "        vt=[]\n",
    "        merged_mjds=[]\n",
    "        ## Conversion to MJDs ##\n",
    "        for i in range(len(utc_df)):\n",
    "            vt.append(Time(datetime(utc_df['year'][i],utc_df['month'][i],utc_df['day'][i],utc_df['hour'][i]), scale='utc'))\n",
    "            no_mills_mjds.append(vt[i].mjd)\n",
    "            merged_mjds.append(np.append(no_mills_mjds[i],summed_mills[i]).tolist())\n",
    "            master_list.append(merged_mjds[i]) ## lists all info from solar files\n",
    "        ## preparing to interpolate\n",
    "    master_df=pd.DataFrame(master_list)\n",
    "    master_df.columns=['mjd','sun_cov']\n",
    "    mjd=master_df['mjd']\n",
    "    sun_cov=master_df['sun_cov']\n",
    "    ifunc=interp1d(mjd,sun_cov)\n",
    "    seq_sol=[ifunc(i).tolist() for i in [get_mjd(i) for i in fits_files]]\n",
    "    return(seq_sol)"
   ]
  },
  {
   "cell_type": "code",
   "execution_count": 9,
   "metadata": {
    "collapsed": false
   },
   "outputs": [
    {
     "data": {
      "text/plain": [
       "[224.5, 224.5, 224.5, 138.0, 123.0, 138.0, 123.0, 550.5, 123.0, 550.5, 123.0]"
      ]
     },
     "execution_count": 9,
     "metadata": {},
     "output_type": "execute_result"
    }
   ],
   "source": [
    "## enter solar files used and the fits files used, return mill of sol disk\n",
    "mjds_sol(solar_files, rand_files)\n",
    "#solar_files[0]"
   ]
  },
  {
   "cell_type": "markdown",
   "metadata": {},
   "source": [
    "## IGNORE EVERYTHING BELOW HERE"
   ]
  },
  {
   "cell_type": "code",
   "execution_count": 12,
   "metadata": {
    "collapsed": false
   },
   "outputs": [],
   "source": [
    "master_df=pd.DataFrame(master_list)\n",
    "master_df.columns=['mjd','sun_cov']"
   ]
  },
  {
   "cell_type": "code",
   "execution_count": 13,
   "metadata": {
    "collapsed": false
   },
   "outputs": [
    {
     "data": {
      "text/html": [
       "<div>\n",
       "<table border=\"1\" class=\"dataframe\">\n",
       "  <thead>\n",
       "    <tr style=\"text-align: right;\">\n",
       "      <th></th>\n",
       "      <th>mjd</th>\n",
       "      <th>sun_cov</th>\n",
       "    </tr>\n",
       "  </thead>\n",
       "  <tbody>\n",
       "    <tr>\n",
       "      <th>0</th>\n",
       "      <td>54840.5</td>\n",
       "      <td>30.0</td>\n",
       "    </tr>\n",
       "    <tr>\n",
       "      <th>1</th>\n",
       "      <td>54841.5</td>\n",
       "      <td>51.0</td>\n",
       "    </tr>\n",
       "    <tr>\n",
       "      <th>2</th>\n",
       "      <td>54842.5</td>\n",
       "      <td>92.0</td>\n",
       "    </tr>\n",
       "    <tr>\n",
       "      <th>3</th>\n",
       "      <td>54843.5</td>\n",
       "      <td>18.0</td>\n",
       "    </tr>\n",
       "    <tr>\n",
       "      <th>4</th>\n",
       "      <td>54844.5</td>\n",
       "      <td>17.0</td>\n",
       "    </tr>\n",
       "    <tr>\n",
       "      <th>5</th>\n",
       "      <td>54850.5</td>\n",
       "      <td>18.0</td>\n",
       "    </tr>\n",
       "    <tr>\n",
       "      <th>6</th>\n",
       "      <td>54873.5</td>\n",
       "      <td>9.0</td>\n",
       "    </tr>\n",
       "    <tr>\n",
       "      <th>7</th>\n",
       "      <td>54874.5</td>\n",
       "      <td>13.0</td>\n",
       "    </tr>\n",
       "  </tbody>\n",
       "</table>\n",
       "</div>"
      ],
      "text/plain": [
       "       mjd  sun_cov\n",
       "0  54840.5     30.0\n",
       "1  54841.5     51.0\n",
       "2  54842.5     92.0\n",
       "3  54843.5     18.0\n",
       "4  54844.5     17.0\n",
       "5  54850.5     18.0\n",
       "6  54873.5      9.0\n",
       "7  54874.5     13.0"
      ]
     },
     "execution_count": 13,
     "metadata": {},
     "output_type": "execute_result"
    }
   ],
   "source": [
    "master_df[:8]"
   ]
  },
  {
   "cell_type": "code",
   "execution_count": 37,
   "metadata": {
    "collapsed": false
   },
   "outputs": [
    {
     "data": {
      "text/plain": [
       "array(17.75)"
      ]
     },
     "execution_count": 37,
     "metadata": {},
     "output_type": "execute_result"
    }
   ],
   "source": [
    "mjd=master_df['mjd']\n",
    "sun_cov=master_df['sun_cov']\n",
    "#y=merged_lists[5]\n",
    "ifunc=interp1d(mjd,sun_cov)\n",
    "ifunc(54849)"
   ]
  },
  {
   "cell_type": "code",
   "execution_count": 44,
   "metadata": {
    "collapsed": false
   },
   "outputs": [],
   "source": [
    "seq_files_mjd=[]\n",
    "rand_files_mjd=[]\n",
    "for i in inseq_files:\n",
    "    seq_files_mjd.append(get_mjd(i))\n",
    "for i in rand_files:\n",
    "    rand_files_mjd.append(get_mjd(i))"
   ]
  },
  {
   "cell_type": "code",
   "execution_count": 51,
   "metadata": {
    "collapsed": true
   },
   "outputs": [],
   "source": [
    "seq_files_mjd=[get_mjd(i) for i in inseq_files]\n",
    "rand_files_mjd=[get_mjd(i) for i in rand_files]"
   ]
  },
  {
   "cell_type": "code",
   "execution_count": 52,
   "metadata": {
    "collapsed": false
   },
   "outputs": [],
   "source": [
    "seq_sol=[ifunc(i).tolist() for i in seq_files_mjd]\n",
    "rand_sol=[ifunc(i).tolist() for i in rand_files_mjd]"
   ]
  },
  {
   "cell_type": "code",
   "execution_count": 53,
   "metadata": {
    "collapsed": false
   },
   "outputs": [
    {
     "data": {
      "text/plain": [
       "[55181, 55181, 55181, 55272, 57345, 55272, 57345, 56014, 57345, 56014, 57345]"
      ]
     },
     "execution_count": 53,
     "metadata": {},
     "output_type": "execute_result"
    }
   ],
   "source": [
    "rand_files_mjd"
   ]
  },
  {
   "cell_type": "code",
   "execution_count": 54,
   "metadata": {
    "collapsed": false
   },
   "outputs": [
    {
     "data": {
      "text/plain": [
       "[224.5, 224.5, 224.5, 138.0, 123.0, 138.0, 123.0, 550.5, 123.0, 550.5, 123.0]"
      ]
     },
     "execution_count": 54,
     "metadata": {},
     "output_type": "execute_result"
    }
   ],
   "source": [
    "rand_sol"
   ]
  },
  {
   "cell_type": "markdown",
   "metadata": {},
   "source": [
    "## Trial codes"
   ]
  },
  {
   "cell_type": "code",
   "execution_count": 107,
   "metadata": {
    "collapsed": false,
    "scrolled": true
   },
   "outputs": [
    {
     "data": {
      "text/plain": [
       "[224.5, 224.5, 224.5, 138.0, 123.0, 138.0, 123.0, 550.5, 123.0, 550.5, 123.0]"
      ]
     },
     "execution_count": 107,
     "metadata": {},
     "output_type": "execute_result"
    }
   ],
   "source": [
    "#b) Then set up one massive interpolated function from mjds to mill of sol. disk\n",
    "## Pulling out cols of interest\n",
    "master_list=[]\n",
    "for i in solar_files:\n",
    "    demo=list(chain.from_iterable((x[:4], x[4:6], x[6:10], x[31:34]) for x in open(i).readlines()))\n",
    "    ## Organizing cols\n",
    "    str_list=[demo[i*4:i*4+4] for i in range(int(len(demo)/4))]\n",
    "    ## Converting to float\n",
    "    float_dates=[]\n",
    "    for k in range(len(str_list)):\n",
    "        float_dates.append([float(i) for i in str_list[k]])\n",
    "    b=([x[:4] for x in float_dates])\n",
    "    ve=merge_subs(b)\n",
    "    new=[]\n",
    "    summed_mills=[]\n",
    "    no_mills=[]\n",
    "    merged_lists=[]\n",
    "    merged_utc=[]\n",
    "    for i in range(len(ve)):\n",
    "        new.append(f2(ve[i]))\n",
    "        summed_mills.append(sum(new[i][3:]))\n",
    "        no_mills.append(new[i][:3])\n",
    "        merged_lists.append(np.append(no_mills[i],summed_mills[i]).tolist())\n",
    "        ## Conversion to datetime ##\n",
    "        merged_lists[i][3:3]=[12]\n",
    "        merged_utc.append([int(n) for n in merged_lists[i]])\n",
    "    utc_df=pd.DataFrame(merged_utc)\n",
    "    utc_df.columns=['year','month','day','hour','mill']\n",
    "    no_mills_mjds=[]\n",
    "    vt=[]\n",
    "    merged_mjds=[]\n",
    "    ## Conversion to MJDs ##\n",
    "    for i in range(len(utc_df)):\n",
    "        vt.append(Time(datetime(utc_df['year'][i],utc_df['month'][i],utc_df['day'][i],utc_df['hour'][i]), scale='utc'))\n",
    "        no_mills_mjds.append(vt[i].mjd)\n",
    "        merged_mjds.append(np.append(no_mills_mjds[i],summed_mills[i]).tolist())\n",
    "        master_list.append(merged_mjds[i]) ## lists all info from solar files\n",
    "    ## preparing to interpolate\n",
    "master_df=pd.DataFrame(master_list)\n",
    "master_df.columns=['mjd','sun_cov']\n",
    "mjd=master_df['mjd']\n",
    "sun_cov=master_df['sun_cov']\n",
    "ifunc=interp1d(mjd,sun_cov)\n",
    "seq_sol=[ifunc(i).tolist() for i in [get_mjd(i) for i in rand_files]] #fits_files]]\n",
    "seq_sol"
   ]
  },
  {
   "cell_type": "code",
   "execution_count": 329,
   "metadata": {
    "collapsed": true
   },
   "outputs": [],
   "source": [
    "#list_example=[[1,1,2016,212], [1,2,2016,170], [1,3,2016,150], [1,5,2016,96], [1,6,2016,150], [1,8,2016,321]]"
   ]
  },
  {
   "cell_type": "code",
   "execution_count": 330,
   "metadata": {
    "collapsed": false
   },
   "outputs": [],
   "source": [
    "#zip(list_example)"
   ]
  },
  {
   "cell_type": "code",
   "execution_count": null,
   "metadata": {
    "collapsed": true
   },
   "outputs": [],
   "source": []
  },
  {
   "cell_type": "code",
   "execution_count": null,
   "metadata": {
    "collapsed": true
   },
   "outputs": [],
   "source": []
  }
 ],
 "metadata": {
  "anaconda-cloud": {},
  "kernelspec": {
   "display_name": "Python 2",
   "language": "python",
   "name": "python2"
  },
  "language_info": {
   "codemirror_mode": {
    "name": "ipython",
    "version": 2
   },
   "file_extension": ".py",
   "mimetype": "text/x-python",
   "name": "python",
   "nbconvert_exporter": "python",
   "pygments_lexer": "ipython2",
   "version": "2.7.12"
  }
 },
 "nbformat": 4,
 "nbformat_minor": 1
}
