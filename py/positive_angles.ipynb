{
 "cells": [
  {
   "cell_type": "code",
   "execution_count": 1,
   "metadata": {
    "collapsed": false
   },
   "outputs": [],
   "source": [
    "import pyfits\n",
    "from astropy.time import Time\n",
    "from astral import Location\n",
    "from astropy.coordinates import SkyCoord, get_moon, EarthLocation, ICRS, GCRS,AltAz,get_sun"
   ]
  },
  {
   "cell_type": "markdown",
   "metadata": {},
   "source": [
    "## Location"
   ]
  },
  {
   "cell_type": "code",
   "execution_count": 2,
   "metadata": {
    "collapsed": false
   },
   "outputs": [],
   "source": [
    "# Location, never changes\n",
    "apl = Location()\n",
    "apl.name = 'Apache Point Observatory'\n",
    "apl.region = 'NM'\n",
    "apl.latitude = 32.780208\n",
    "apl.longitude = -105.819749\n",
    "#apl.timezone = 'US/Mountain'\n",
    "apl.timezone = 'UTC'\n",
    "apl.elevation = 2790\n",
    "import astropy.units as u\n",
    "\n",
    "aplEL=EarthLocation(lon=apl.longitude*u.deg, lat=apl.latitude*u.deg,height=apl.elevation*u.m)\n"
   ]
  },
  {
   "cell_type": "markdown",
   "metadata": {},
   "source": [
    "## Angles of Elevation and Azimuth"
   ]
  },
  {
   "cell_type": "code",
   "execution_count": 3,
   "metadata": {
    "collapsed": false
   },
   "outputs": [
    {
     "name": "stdout",
     "output_type": "stream",
     "text": [
      "('MJD =', 56014.40175266204)\n",
      "('Date-time =', datetime.datetime(2012, 3, 28, 9, 38, 31, 430000))\n"
     ]
    }
   ],
   "source": [
    "da=pyfits.open('spec-5478-56014-0716.fits')\n",
    "h_beg=da[4].header['TAI-BEG']\n",
    "h_end=da[4].header['TAI-END']\n",
    "ttime=(h_beg+h_end)/2\n",
    "#TAI TO MJD\n",
    "time_MJD=ttime/(86400.)\n",
    "t=Time(time_MJD, format='mjd')\n",
    "print('MJD =',t.mjd)\n",
    "print('Date-time =', t.datetime)\n"
   ]
  },
  {
   "cell_type": "code",
   "execution_count": 4,
   "metadata": {
    "collapsed": false
   },
   "outputs": [
    {
     "name": "stdout",
     "output_type": "stream",
     "text": [
      "('elevation (degrees above horizon) =', -39.40657370122722)\n",
      "('azimuth (clockwise from North) =', 51.999591390034595)\n"
     ]
    }
   ],
   "source": [
    "print('elevation (degrees above horizon) =',apl.solar_elevation(t.datetime))\n",
    "print('azimuth (clockwise from North) =',apl.solar_azimuth(t.datetime))"
   ]
  },
  {
   "cell_type": "code",
   "execution_count": 5,
   "metadata": {
    "collapsed": false
   },
   "outputs": [
    {
     "name": "stdout",
     "output_type": "stream",
     "text": [
      "<SkyCoord (AltAz: obstime=56014.4017527, location=(-1463941.4280467008, -5166661.262953967, 3435000.7831954993) m, pressure=0.0 hPa, temperature=0.0 deg_C, relative_humidity=0, obswl=1.0 micron): (az, alt, distance) in (deg, deg, m)\n",
      "    (333.11461048, -30.58300676, 406719518.84977168)>\n"
     ]
    }
   ],
   "source": [
    "moon=get_moon(t,aplEL)\n",
    "moonaltaz=moon.transform_to(AltAz(location=aplEL, obstime=t))\n",
    "print moonaltaz"
   ]
  },
  {
   "cell_type": "code",
   "execution_count": 6,
   "metadata": {
    "collapsed": false
   },
   "outputs": [
    {
     "name": "stdout",
     "output_type": "stream",
     "text": [
      "<SkyCoord (AltAz: obstime=56014.4017527, location=(-1463941.4280467008, -5166661.262953967, 3435000.7831954993) m, pressure=0.0 hPa, temperature=0.0 deg_C, relative_humidity=0, obswl=1.0 micron): (az, alt, distance) in (deg, deg, m)\n",
      "    (51.99594211, -39.41706078, 149342670347.74749756)>\n"
     ]
    }
   ],
   "source": [
    "sun=get_sun(t)\n",
    "sunaltaz=sun.transform_to(AltAz(location=aplEL, obstime=t))\n",
    "print sunaltaz"
   ]
  },
  {
   "cell_type": "code",
   "execution_count": null,
   "metadata": {
    "collapsed": true
   },
   "outputs": [],
   "source": []
  }
 ],
 "metadata": {
  "anaconda-cloud": {},
  "kernelspec": {
   "display_name": "Python 2",
   "language": "python",
   "name": "python2"
  },
  "language_info": {
   "codemirror_mode": {
    "name": "ipython",
    "version": 2
   },
   "file_extension": ".py",
   "mimetype": "text/x-python",
   "name": "python",
   "nbconvert_exporter": "python",
   "pygments_lexer": "ipython2",
   "version": "2.7.12"
  }
 },
 "nbformat": 4,
 "nbformat_minor": 1
}
