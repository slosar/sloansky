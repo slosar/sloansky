{
 "cells": [
  {
   "cell_type": "code",
   "execution_count": 1,
   "metadata": {
    "collapsed": true
   },
   "outputs": [],
   "source": [
    "import pyfits\n",
    "from astropy.time import Time\n",
    "from astral import Location"
   ]
  },
  {
   "cell_type": "markdown",
   "metadata": {},
   "source": [
    "## Location"
   ]
  },
  {
   "cell_type": "code",
   "execution_count": 2,
   "metadata": {
    "collapsed": false
   },
   "outputs": [],
   "source": [
    "# Location, never changes\n",
    "apl = Location()\n",
    "apl.name = 'Apache Point Observatory'\n",
    "apl.region = 'NM'\n",
    "apl.latitude = 32.780208\n",
    "apl.longitude = -105.819749\n",
    "apl.timezone = 'US/Mountain'\n",
    "apl.elevation = 2790"
   ]
  },
  {
   "cell_type": "markdown",
   "metadata": {},
   "source": [
    "## Angles of Elevation and Azimuth"
   ]
  },
  {
   "cell_type": "code",
   "execution_count": 3,
   "metadata": {
    "collapsed": false
   },
   "outputs": [
    {
     "name": "stdout",
     "output_type": "stream",
     "text": [
      "MJD = 56014.40175266204\n",
      "Date-time = 2012-03-28 09:38:31.430000\n"
     ]
    }
   ],
   "source": [
    "da=pyfits.open('spec-5478-56014-0716.fits')\n",
    "h_beg=da[4].header['TAI-BEG']\n",
    "h_end=da[4].header['TAI-END']\n",
    "ttime=(h_beg+h_end)/2\n",
    "#TAI TO MJD\n",
    "time_MJD=ttime/(86400.)\n",
    "t=Time(time_MJD, format='mjd')\n",
    "print('MJD =',t.mjd)\n",
    "print('Date-time =', t.datetime)"
   ]
  },
  {
   "cell_type": "code",
   "execution_count": 4,
   "metadata": {
    "collapsed": false
   },
   "outputs": [
    {
     "name": "stdout",
     "output_type": "stream",
     "text": [
      "elevation (degrees above horizon) = 32.93643985699155\n",
      "azimuth (clockwise from North) = 109.56150510063203\n"
     ]
    }
   ],
   "source": [
    "print('elevation (degrees above horizon) =',apl.solar_elevation(t.datetime))\n",
    "print('azimuth (clockwise from North) =',apl.solar_azimuth(t.datetime))"
   ]
  }
 ],
 "metadata": {
  "anaconda-cloud": {},
  "kernelspec": {
   "display_name": "Python [conda root]",
   "language": "python",
   "name": "conda-root-py"
  },
  "language_info": {
   "codemirror_mode": {
    "name": "ipython",
    "version": 3
   },
   "file_extension": ".py",
   "mimetype": "text/x-python",
   "name": "python",
   "nbconvert_exporter": "python",
   "pygments_lexer": "ipython3",
   "version": "3.5.2"
  }
 },
 "nbformat": 4,
 "nbformat_minor": 1
}
